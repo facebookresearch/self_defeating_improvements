{
 "cells": [
  {
   "cell_type": "code",
   "execution_count": 1,
   "metadata": {},
   "outputs": [],
   "source": [
    "import argparse\n",
    "import os\n",
    "\n",
    "import numpy as np\n",
    "import scipy.misc as ssc\n",
    "\n",
    "import kitti_util"
   ]
  },
  {
   "cell_type": "code",
   "execution_count": 2,
   "metadata": {},
   "outputs": [],
   "source": [
    "def generate_dispariy_from_velo(pc_velo, height, width, calib):\n",
    "    pts_2d = calib.project_velo_to_image(pc_velo)\n",
    "    fov_inds = (pts_2d[:, 0] < width - 1) & (pts_2d[:, 0] >= 0) & \\\n",
    "               (pts_2d[:, 1] < height - 1) & (pts_2d[:, 1] >= 0)\n",
    "    fov_inds = fov_inds & (pc_velo[:, 0] > 2)\n",
    "    imgfov_pc_velo = pc_velo[fov_inds, :]\n",
    "    imgfov_pts_2d = pts_2d[fov_inds, :]\n",
    "    imgfov_pc_rect = calib.project_velo_to_rect(imgfov_pc_velo)\n",
    "    depth_map = np.zeros((height, width)) - 1\n",
    "    imgfov_pts_2d = np.round(imgfov_pts_2d).astype(int)\n",
    "    for i in range(imgfov_pts_2d.shape[0]):\n",
    "        depth = imgfov_pc_rect[i, 2]\n",
    "        depth_map[int(imgfov_pts_2d[i, 1]), int(imgfov_pts_2d[i, 0])] = depth\n",
    "    baseline = 0.54\n",
    "\n",
    "    disp_map = (calib.f_u * baseline) / depth_map\n",
    "    return disp_map, depth"
   ]
  },
  {
   "cell_type": "code",
   "execution_count": 25,
   "metadata": {
    "scrolled": true
   },
   "outputs": [],
   "source": [
    "data_path = '/private/home/ruihan/Kitti/object/training/'\n",
    "split_file = '/private/home/ruihan/Kitti/object/train.txt'\n",
    "assert os.path.isdir(data_path)\n",
    "lidar_dir = data_path + '/velodyne/'\n",
    "calib_dir = data_path + '/calib/'\n",
    "image_dir = data_path + '/image_2/'\n",
    "disparity_dir = data_path + '/disparity/'\n",
    "\n",
    "assert os.path.isdir(lidar_dir)\n",
    "assert os.path.isdir(calib_dir)\n",
    "assert os.path.isdir(image_dir)\n",
    "\n",
    "if not os.path.isdir(disparity_dir):\n",
    "    os.makedirs(disparity_dir)\n",
    "\n",
    "lidar_files = [x for x in os.listdir(lidar_dir) if x[-3:] == 'bin']\n",
    "lidar_files = sorted(lidar_files)\n",
    "\n",
    "assert os.path.isfile(split_file)\n",
    "with open(split_file, 'r') as f:\n",
    "    file_names = [x.strip() for x in f.readlines()]\n",
    "\n",
    "#for fn in lidar_files:\n",
    "#     predix = fn[:-4]\n",
    "#     if predix not in file_names:\n",
    "#         continue\n",
    "#     calib_file = '{}/{}.txt'.format(calib_dir, predix)\n",
    "#     calib = kitti_util.Calibration(calib_file)\n",
    "#     # load point cloud\n",
    "#     lidar = np.fromfile(lidar_dir + '/' + fn, dtype=np.float32).reshape((-1, 4))[:, :3]\n",
    "#     image_file = '{}/{}.png'.format(image_dir, predix)\n",
    "#     image = ssc.imread(image_file)\n",
    "#     height, width = image.shape[:2]\n",
    "#     disp = generate_dispariy_from_velo(lidar, height, width, calib)\n",
    "#     #np.save(disparity_dir + '/' + predix, disp)\n",
    "#     print('Finish Disparity {}'.format(predix))"
   ]
  },
  {
   "cell_type": "code",
   "execution_count": 27,
   "metadata": {
    "scrolled": true
   },
   "outputs": [
    {
     "name": "stdout",
     "output_type": "stream",
     "text": [
      "100\n",
      "200\n",
      "300\n",
      "400\n",
      "500\n",
      "600\n",
      "700\n",
      "800\n",
      "900\n",
      "1000\n",
      "1100\n",
      "1200\n",
      "1300\n",
      "1400\n",
      "1500\n",
      "1600\n",
      "1700\n",
      "1800\n",
      "1900\n",
      "2000\n",
      "2100\n",
      "2200\n",
      "2300\n",
      "2400\n",
      "2500\n",
      "2600\n",
      "2700\n",
      "2800\n",
      "2900\n",
      "3000\n",
      "3100\n",
      "3200\n",
      "3300\n",
      "3400\n",
      "3500\n",
      "3600\n",
      "3700\n",
      "3800\n",
      "3900\n",
      "4000\n",
      "4100\n",
      "4200\n",
      "4300\n",
      "4400\n",
      "4500\n",
      "4600\n",
      "4700\n",
      "4800\n",
      "4900\n",
      "5000\n",
      "5100\n",
      "5200\n",
      "5300\n",
      "5400\n",
      "5500\n",
      "5600\n",
      "5700\n",
      "5800\n",
      "5900\n",
      "6000\n",
      "6100\n",
      "6200\n",
      "6300\n",
      "6400\n",
      "6500\n",
      "6600\n",
      "6700\n",
      "6800\n",
      "6900\n",
      "7000\n",
      "7100\n",
      "7200\n",
      "7300\n",
      "7400\n"
     ]
    }
   ],
   "source": [
    "disp_all = []\n",
    "depth_all = []\n",
    "for i, fn in enumerate(lidar_files):\n",
    "    if (i+1) % 100 == 0:\n",
    "        print(i+1)\n",
    "    predix = fn[:-4]\n",
    "    if predix not in file_names:\n",
    "        continue\n",
    "        \n",
    "    calib_file = '{}/{}.txt'.format(calib_dir, predix)\n",
    "    calib = kitti_util.Calibration(calib_file)\n",
    "    disp = np.load(disparity_dir + '/' + predix + '.npy')\n",
    "    depth = (calib.f_u * 0.54) / disp\n",
    "    disp_all.append(disp)\n",
    "    depth_all.append(depth)\n",
    "    #print(disp[disp > 0].shape)\n",
    "    #break"
   ]
  },
  {
   "cell_type": "code",
   "execution_count": null,
   "metadata": {},
   "outputs": [],
   "source": []
  },
  {
   "cell_type": "code",
   "execution_count": 28,
   "metadata": {},
   "outputs": [],
   "source": [
    "disp_all_vec = np.concatenate([disp[disp>0] for disp in disp_all])\n",
    "depth_all_vec = np.concatenate([depth[depth>0] for depth in depth_all])"
   ]
  },
  {
   "cell_type": "code",
   "execution_count": 29,
   "metadata": {
    "scrolled": true
   },
   "outputs": [
    {
     "data": {
      "text/plain": [
       "(array([23642709., 25055996.,  9686464.,  4807556.,  2886563.,  1762204.,\n",
       "         1116526.,   738735.,   450081.,   228819.]),\n",
       " array([ 1.66839485,  9.47338993, 17.278385  , 25.08338007, 32.88837515,\n",
       "        40.69337022, 48.49836529, 56.30336036, 64.10835544, 71.91335051,\n",
       "        79.71834558]),\n",
       " <BarContainer object of 10 artists>)"
      ]
     },
     "execution_count": 29,
     "metadata": {},
     "output_type": "execute_result"
    },
    {
     "data": {
      "image/png": "[encoded data removed]",
      "text/plain": [
       "<Figure size 432x288 with 1 Axes>"
      ]
     },
     "metadata": {
      "needs_background": "light"
     },
     "output_type": "display_data"
    }
   ],
   "source": [
    "import matplotlib.pyplot as plt\n",
    "\n",
    "plt.hist(depth_all_vec)"
   ]
  },
  {
   "cell_type": "code",
   "execution_count": null,
   "metadata": {},
   "outputs": [],
   "source": []
  }
 ],
 "metadata": {
  "kernelspec": {
   "display_name": "model_interact",
   "language": "python",
   "name": "model_interact"
  },
  "language_info": {
   "codemirror_mode": {
    "name": "ipython",
    "version": 3
   },
   "file_extension": ".py",
   "mimetype": "text/x-python",
   "name": "python",
   "nbconvert_exporter": "python",
   "pygments_lexer": "ipython3",
   "version": "3.7.9"
  }
 },
 "nbformat": 4,
 "nbformat_minor": 4
}
